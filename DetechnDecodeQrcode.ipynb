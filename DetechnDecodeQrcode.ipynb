{
 "cells": [
  {
   "cell_type": "code",
   "execution_count": 1,
   "metadata": {},
   "outputs": [],
   "source": [
    "import cv2 as cv\n",
    "from pyzbar import pyzbar\n",
    "import matplotlib.pyplot as plt\n",
    "import numpy as np"
   ]
  },
  {
   "cell_type": "code",
   "execution_count": 2,
   "metadata": {},
   "outputs": [],
   "source": [
    "# Định nghĩa bộ lọc 3x3 trung vị của ảnh\n",
    "def medianImg3x3(img):\n",
    "    m, n = img.shape\n",
    "    img_new = np.zeros_like(img)\n",
    "    for i in range(1, m-1):\n",
    "        for j in range(1, n-1):\n",
    "            temp = [img[i-1, j-1], img[i-1, j], img[i-1, j + 1],\n",
    "                    img[i, j-1], img[i, j], img[i, j + 1],\n",
    "                    img[i + 1, j-1], img[i + 1, j], img[i + 1, j + 1]]\n",
    "\n",
    "            temp = sorted(temp)\n",
    "            img_new[i, j] = temp[4]\n",
    "\n",
    "    return img_new"
   ]
  },
  {
   "cell_type": "code",
   "execution_count": 3,
   "metadata": {},
   "outputs": [],
   "source": [
    "# Filter làm nét ảnh\n",
    "def sharpen_image(image):\n",
    "    kernel = np.array([[0, -1, 0],\n",
    "                       [-1, 5, -1],\n",
    "                       [0, -1, 0]])\n",
    "    \n",
    "    sharpened_image = cv.filter2D(image, -1, kernel)\n",
    "    \n",
    "    return sharpened_image"
   ]
  },
  {
   "cell_type": "code",
   "execution_count": 4,
   "metadata": {},
   "outputs": [],
   "source": [
    "def view(qrCodes_processed, image, img):    \n",
    "    for qrCode in qrCodes_processed:\n",
    "        (x, y, w, h) = qrCode.rect\n",
    "        cv.rectangle(image, (x, y), (x+w, y+h), (0, 255, 255), 2)\n",
    "        qrCodeData = qrCode.data.decode(\"utf-8\")\n",
    "        qrCodeType = qrCode.type\n",
    "        text = \"{} - {}\".format(qrCodeData, qrCodeType)\n",
    "        print(text)\n",
    "        cv.putText(image, text, (x-10, y-10), cv.FONT_HERSHEY_SIMPLEX, 0.5, (0, 0, 255), 1)\n",
    "\n",
    "    cv.imshow(\"Phat hien QR code\", image)  \n",
    "    cv.imshow(\"Anh goc\", img) \n",
    "\n",
    "    key = cv.waitKey(0)\n",
    "\n",
    "    if key == ord('q'):\n",
    "        cv.destroyAllWindows()\n"
   ]
  },
  {
   "cell_type": "code",
   "execution_count": 5,
   "metadata": {},
   "outputs": [],
   "source": [
    "def detect_qr_from_image(image_path):\n",
    "    image = cv.imread(image_path)\n",
    "    if image is None:\n",
    "        print(\"Không thể đọc ảnh từ đường dẫn được cung cấp.\")\n",
    "        return\n",
    "\n",
    "    gray = cv.cvtColor(image, cv.COLOR_BGR2GRAY)\n",
    "\n",
    "    qrCodes = pyzbar.decode(image)\n",
    "\n",
    "    if len(qrCodes) == 0:\n",
    "        print(\"Không tìm thấy mã QR trong ảnh gốc.\")\n",
    "\n",
    "        # Cân bằng sáng\n",
    "        # clahe = cv.createCLAHE(clipLimit=15.0, tileGridSize=(35, 35))\n",
    "        clahe = cv.createCLAHE(clipLimit=2.0, tileGridSize=(8, 8))\n",
    "        equalized_gray = clahe.apply(gray)\n",
    "        # equalized_gray = decrease_brightness(equalized_gray, 1)\n",
    "        # cv.imshow(\"Anh goc\", equalized_gray) \n",
    "        qrCodes = pyzbar.decode(equalized_gray)\n",
    "        if len(qrCodes) == 0:\n",
    "            print(\"Không phát hiện được mã QR trên ảnh sau khi được xử lý bằng cân bằng histogram\")\n",
    "            # Xử lý ảnh bằng medianImg3x3\n",
    "            processed_image = medianImg3x3(gray)\n",
    "            # Phát hiện mã QR trên ảnh đã được làm mờ\n",
    "            qrCodes = pyzbar.decode(processed_image)\n",
    "\n",
    "            if len(qrCodes) == 0:\n",
    "                print(\"Không phát hiện được mã QR trên ảnh sau khi được xử lý bằng cân bằng trung vị\")\n",
    "                sharpen = sharpen_image(gray)\n",
    "                qrCodes = pyzbar.decode(sharpen)\n",
    "                if len(qrCodes) == 0:\n",
    "                    print(\"Không phát hiện được mã QR trên ảnh sau khi được xử lý bằng bộ lọc làm nét\")\n",
    "                else:\n",
    "                    print(\"Phát hiện mã QR trong ảnh đã được làm nét.\")\n",
    "                    view(qrCodes, sharpen,image)\n",
    "            else:\n",
    "                print(\"Phát hiện mã QR trong ảnh đã được xử lý khử nhiễu.\")\n",
    "                view(qrCodes, processed_image,image)\n",
    "                \n",
    "        else:\n",
    "            print(\"Phát hiện mã QR trong ảnh đã được xử lý cân bằng sáng.\")\n",
    "            view(qrCodes, equalized_gray, image)\n",
    "            \n",
    "\n",
    "    else:\n",
    "        print(\"Phát hiện mã QR trong ảnh gốc.\")\n",
    "        view(qrCodes, image, image)\n"
   ]
  },
  {
   "cell_type": "code",
   "execution_count": 6,
   "metadata": {},
   "outputs": [
    {
     "name": "stdout",
     "output_type": "stream",
     "text": [
      "Không tìm thấy mã QR trong ảnh gốc.\n",
      "Không phát hiện được mã QR trên ảnh sau khi được xử lý bằng cân bằng histogram\n",
      "Không phát hiện được mã QR trên ảnh sau khi được xử lý bằng cân bằng trung vị\n",
      "Phát hiện mã QR trong ảnh đã được làm nét.\n",
      "TEAM HOI DAP IS DA BEST! - QRCODE\n"
     ]
    },
    {
     "name": "stderr",
     "output_type": "stream",
     "text": [
      "qt.qpa.plugin: Could not find the Qt platform plugin \"wayland\" in \"/home/hoang/.local/lib/python3.10/site-packages/cv2/qt/plugins\"\n"
     ]
    }
   ],
   "source": [
    "detect_qr_from_image(\"./Img/case8.png\")\n",
    "#  nhấn \"q\" để tắt cửa sổ cv.imshow\n",
    "# case 1 ảnh bình thường\n",
    "# case 4 ảnh nhiễu\n",
    "# case 5 ảnh tối\n",
    "# case 8 ảnh mờ\n",
    "# case 9 ảnh không có gì"
   ]
  }
 ],
 "metadata": {
  "kernelspec": {
   "display_name": "Python 3",
   "language": "python",
   "name": "python3"
  },
  "language_info": {
   "codemirror_mode": {
    "name": "ipython",
    "version": 3
   },
   "file_extension": ".py",
   "mimetype": "text/x-python",
   "name": "python",
   "nbconvert_exporter": "python",
   "pygments_lexer": "ipython3",
   "version": "3.10.12"
  }
 },
 "nbformat": 4,
 "nbformat_minor": 2
}
