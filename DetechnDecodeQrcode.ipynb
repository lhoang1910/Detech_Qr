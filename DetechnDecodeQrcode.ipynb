{
 "cells": [
  {
   "cell_type": "code",
   "execution_count": 22,
   "metadata": {},
   "outputs": [],
   "source": [
    "import cv2\n",
    "import numpy as np\n",
    "from pyzbar import pyzbar"
   ]
  },
  {
   "cell_type": "code",
   "execution_count": 23,
   "metadata": {},
   "outputs": [],
   "source": [
    "# Định nghĩa bộ lọc 3x3 trung vị của ảnh\n",
    "def medianImg3x3(img):\n",
    "    m, n = img.shape\n",
    "    img_new = np.zeros_like(img)\n",
    "    for i in range(1, m-1):\n",
    "        for j in range(1, n-1):\n",
    "            temp = [img[i-1, j-1], img[i-1, j], img[i-1, j + 1],\n",
    "                    img[i, j-1], img[i, j], img[i, j + 1],\n",
    "                    img[i + 1, j-1], img[i + 1, j], img[i + 1, j + 1]]\n",
    "\n",
    "            temp = sorted(temp)\n",
    "            img_new[i, j] = temp[4]     \n",
    "\n",
    "    return img_new"
   ]
  },
  {
   "cell_type": "code",
   "execution_count": 24,
   "metadata": {},
   "outputs": [],
   "source": [
    "# Filter làm nét ảnh\n",
    "def sharpen_image(image):\n",
    "    kernel = np.array([[0, -1, 0],\n",
    "                       [-1, 5, -1],\n",
    "                       [0, -1, 0]])\n",
    "    \n",
    "    sharpened_image = cv2.filter2D(image, -1, kernel)\n",
    "        \n",
    "    return sharpened_image"
   ]
  },
  {
   "cell_type": "code",
   "execution_count": 25,
   "metadata": {},
   "outputs": [],
   "source": [
    "def rotate_qr_code(newImg):    \n",
    "    gray = cv2.cvtColor(newImg, cv2.COLOR_BGR2GRAY)\n",
    "    gray = 255 - gray\n",
    "    thresh = cv2.threshold(gray, 0, 255, cv2.THRESH_BINARY + cv2.THRESH_OTSU)[1]\n",
    "\n",
    "    coords = np.column_stack(np.where(thresh > 0))\n",
    "    angle = cv2.minAreaRect(coords)[-1]\n",
    "\n",
    "    if angle < -45:\n",
    "        angle = -(90 + angle)   \n",
    "    else:\n",
    "        angle = -angle\n",
    "\n",
    "    (h, w) = newImg.shape[:2]\n",
    "    center = (w // 2, h // 2)\n",
    "    M = cv2.getRotationMatrix2D(center, angle, 1.0)\n",
    "    rotated = cv2.warpAffine(newImg, M, (w, h), flags=cv2.INTER_CUBIC, borderMode=cv2.BORDER_REPLICATE)\n",
    "    return rotated"
   ]
  },
  {
   "cell_type": "code",
   "execution_count": 26,
   "metadata": {},
   "outputs": [],
   "source": [
    "def view(qrCodes_processed, image, img):    \n",
    "    for qrCode in qrCodes_processed:\n",
    "        (x, y, w, h) = qrCode.rect\n",
    "        cv2.rectangle(image, (x, y), (x+w, y+h), (0, 255, 255), 2)\n",
    "        qrCodeData = qrCode.data.decode(\"utf-8\")\n",
    "        qrCodeType = qrCode.type\n",
    "        text = \"{} - {}\".format(qrCodeData, qrCodeType)\n",
    "        print(text)\n",
    "        cv2.putText(image, text, (x-10, y-10), cv2.FONT_HERSHEY_SIMPLEX, 0.5, (0, 0, 255), 1)\n",
    "       \n",
    "        qr_code_region = image[y:y+h, x:x+w]\n",
    "\n",
    "    if img is not None:\n",
    "         cv2.imshow(\"Anh goc\", img)\n",
    "         \n",
    "    cv2.imshow(\"phat hien\", image)\n",
    "\n",
    "    rotated = rotate_qr_code(qr_code_region)\n",
    "    cv2.imshow('QR duoc cat ra', rotated)\n",
    "\n",
    "    key = cv2.waitKey(0)\n",
    "\n",
    "    if key == ord('q'):\n",
    "            cv2.destroyAllWindows()\n",
    "\n",
    "    return qr_code_region"
   ]
  },
  {
   "cell_type": "code",
   "execution_count": 27,
   "metadata": {},
   "outputs": [],
   "source": [
    "def detect_qr_from_image(image_path):\n",
    "    image = cv2.imread(image_path)\n",
    "    imgCopy = cv2.imread(image_path, cv2.IMREAD_COLOR)\n",
    "\n",
    "    if image is None:\n",
    "        print(\"Không thể đọc ảnh từ đường dẫn được cung cấp.\")\n",
    "        return\n",
    "\n",
    "    gray = cv2.cvtColor(image, cv2.COLOR_BGR2GRAY)\n",
    "\n",
    "    qrCodes = pyzbar.decode(image)\n",
    "\n",
    "    if len(qrCodes) == 0:\n",
    "        print(\"Không tìm thấy mã QR trong ảnh gốc.\")\n",
    "\n",
    "        # Cân bằng sáng\n",
    "        clahe = cv2.createCLAHE(clipLimit=15.0, tileGridSize=(8, 8))\n",
    "        equalized_gray = clahe.apply(gray)\n",
    "\n",
    "        qrCodes = pyzbar.decode(equalized_gray)\n",
    "        \n",
    "        if len(qrCodes) == 0:\n",
    "            print(\"Không phát hiện được mã QR trên ảnh sau khi được xử lý bằng cân bằng histogram\")\n",
    "            # Xử lý ảnh bằng medianImg3x3\n",
    "            processed_image = medianImg3x3(gray)\n",
    "            # Phát hiện mã QR trên ảnh đã được làm mờ\n",
    "            qrCodes = pyzbar.decode(processed_image)\n",
    "\n",
    "            if len(qrCodes) == 0:\n",
    "                print(\"Không phát hiện được mã QR trên ảnh sau khi được xử lý bằng cân bằng trung vị\")\n",
    "                sharpen = sharpen_image(gray)\n",
    "                qrCodes = pyzbar.decode(sharpen)\n",
    "                if len(qrCodes) == 0:\n",
    "                    print(\"Không phát hiện được mã QR trên ảnh sau khi qua các bước xử lý ảnh\")\n",
    "                else:\n",
    "                    print(\"Phát hiện mã QR trong ảnh đã được làm nét.\")\n",
    "                    sharpen = cv2.cvtColor(sharpen, cv2.COLOR_GRAY2BGR)\n",
    "                    view(qrCodes, sharpen,imgCopy)\n",
    "            else:\n",
    "                print(\"Phát hiện mã QR trong ảnh đã được xử lý khử nhiễu.\")\n",
    "                processed_image = cv2.cvtColor(processed_image, cv2.COLOR_GRAY2BGR)\n",
    "                view(qrCodes, processed_image,imgCopy)\n",
    "                \n",
    "        else:\n",
    "            print(\"Phát hiện mã QR trong ảnh đã được xử lý cân bằng sáng.\")\n",
    "            equalized_gray = cv2.cvtColor(equalized_gray, cv2.COLOR_GRAY2BGR)\n",
    "            view(qrCodes, equalized_gray, imgCopy)\n",
    "    else:\n",
    "        print(\"Phát hiện mã QR trong ảnh gốc.\")\n",
    "        view(qrCodes, image, None)\n",
    "\n",
    "\n"
   ]
  },
  {
   "cell_type": "code",
   "execution_count": 28,
   "metadata": {},
   "outputs": [
    {
     "name": "stdout",
     "output_type": "stream",
     "text": [
      "Phát hiện mã QR trong ảnh gốc.\n",
      "TEAM HOI DAP IS DA BEST! - QRCODE\n",
      "Skew angle:  -62.10273361206055\n"
     ]
    }
   ],
   "source": [
    "detect_qr_from_image(\"./Img/case10.png\")\n",
    "#  nhấn \"q\" để tắt cửa sổ cv.imshow\n",
    "# case 1 ảnh bình thường\n",
    "# case 4 ảnh nhiễu\n",
    "# case 5 ảnh tối\n",
    "# case 8 ảnh mờ\n",
    "# case 9 ảnh không có gì\n",
    "# Case 7, 10 ảnh nghiêng"
   ]
  }
 ],
 "metadata": {
  "kernelspec": {
   "display_name": "Python 3",
   "language": "python",
   "name": "python3"
  },
  "language_info": {
   "codemirror_mode": {
    "name": "ipython",
    "version": 3
   },
   "file_extension": ".py",
   "mimetype": "text/x-python",
   "name": "python",
   "nbconvert_exporter": "python",
   "pygments_lexer": "ipython3",
   "version": "3.10.12"
  }
 },
 "nbformat": 4,
 "nbformat_minor": 2
}
